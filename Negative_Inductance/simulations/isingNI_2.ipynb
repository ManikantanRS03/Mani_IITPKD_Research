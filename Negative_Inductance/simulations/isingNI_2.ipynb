{
 "cells": [
  {
   "cell_type": "code",
   "execution_count": 2,
   "metadata": {},
   "outputs": [],
   "source": [
    "import numpy as np\n",
    "import copy as cp\n",
    "import matplotlib.pyplot as plt"
   ]
  },
  {
   "cell_type": "markdown",
   "metadata": {},
   "source": [
    "### units Nx,Ny,Nz,n, -> unitless\n",
    "### units T -> K\n",
    "### units k -> J/K (value = 1.38065e-23)\n",
    "### unit J -> \n",
    "### units mu0 -> H/m (value = 4*pi e-7)\n",
    "### unit Lc -> m\n",
    "### units A -> m^2\n",
    "### units R -> \n",
    "### units Time,dt -> s"
   ]
  },
  {
   "cell_type": "code",
   "execution_count": null,
   "metadata": {},
   "outputs": [],
   "source": [
    "# units"
   ]
  },
  {
   "cell_type": "code",
   "execution_count": null,
   "metadata": {},
   "outputs": [],
   "source": [
    "# parameters for simulation\n",
    "\n",
    "Nx = 25\n",
    "Ny = 25\n",
    "Nz = 70\n",
    "\n",
    "T = 0.2 #tempreture why??\n",
    "k = 1\n",
    "J = 0.5\n",
    "mu_0 = 4*pi*1e-7\n",
    "\n",
    "%core properties\n",
    "NuT = 10    #number of turns\n",
    "Lc = 0.01   #length of toroid (2*pi*r))\n",
    "A = 1e-6    #cross section area\n",
    "R = 1e-2    #parllel resistance\n",
    "\n",
    "%scaling\n",
    "Hc = 1e3    #magnetic fe \n",
    "Mc = 1e5    #\n",
    "\n",
    "\n",
    "%time definition and switching speed need to be defined\n",
    "Time = 0.5e-4;\n",
    "dt = 0.1e-6;\n",
    "n = floor(Time/dt);\n",
    "\n",
    "sw_speed = 1e7; %number of switches in one second\n",
    "mc_steps = sw_speed*dt ;\n",
    "\n",
    "Io = 3;"
   ]
  }
 ],
 "metadata": {
  "kernelspec": {
   "display_name": "Python 3",
   "language": "python",
   "name": "python3"
  },
  "language_info": {
   "codemirror_mode": {
    "name": "ipython",
    "version": 3
   },
   "file_extension": ".py",
   "mimetype": "text/x-python",
   "name": "python",
   "nbconvert_exporter": "python",
   "pygments_lexer": "ipython3",
   "version": "3.11.1"
  },
  "orig_nbformat": 4
 },
 "nbformat": 4,
 "nbformat_minor": 2
}
