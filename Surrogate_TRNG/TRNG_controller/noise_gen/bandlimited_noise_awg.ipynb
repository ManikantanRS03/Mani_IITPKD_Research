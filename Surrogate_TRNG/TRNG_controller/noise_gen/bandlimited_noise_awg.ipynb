{
 "cells": [
  {
   "cell_type": "code",
   "execution_count": 1,
   "metadata": {},
   "outputs": [],
   "source": [
    "#%% Modules\n",
    "import pyvisa as visa\n",
    "import awg_support as awg\n",
    "import dso_support as dso\n",
    "import numpy as np \n",
    "import matplotlib.pyplot as plt\n",
    "import csv\n",
    "import time"
   ]
  },
  {
   "cell_type": "code",
   "execution_count": 2,
   "metadata": {},
   "outputs": [],
   "source": [
    "#%% Initialisation\n",
    "# Setup for the tools\n",
    "ID_awg = 'USB0::0xF4EC::0x1102::SDG2XFBC7R0482::INSTR'\n",
    "rm = awg.resourcer()\n",
    "inst_awg = awg.initialise(ID_awg, rm)\n",
    "\n",
    "#noise parameters\n",
    "sd = 1.1\n",
    "Ts = 1/8e6\n",
    "tw = np.arange(0, 1, Ts)"
   ]
  },
  {
   "cell_type": "code",
   "execution_count": 3,
   "metadata": {},
   "outputs": [],
   "source": [
    "awg.set_output_state(inst_awg,channel=2,val=\"ON\")\n",
    "wave = np.random.normal(0,sd,size=np.shape(tw))\n",
    "awg.arb_wave_constructor(inst_awg, wave, tw,freq=80e3,channel=2)"
   ]
  },
  {
   "cell_type": "code",
   "execution_count": 4,
   "metadata": {},
   "outputs": [],
   "source": [
    "awg.set_output_state(inst_awg,channel=1,val=\"OFF\")\n",
    "awg.deinitialise(inst_awg)\n",
    "awg.deinitialise(rm)"
   ]
  }
 ],
 "metadata": {
  "kernelspec": {
   "display_name": "Python 3",
   "language": "python",
   "name": "python3"
  },
  "language_info": {
   "codemirror_mode": {
    "name": "ipython",
    "version": 3
   },
   "file_extension": ".py",
   "mimetype": "text/x-python",
   "name": "python",
   "nbconvert_exporter": "python",
   "pygments_lexer": "ipython3",
   "version": "3.12.3"
  }
 },
 "nbformat": 4,
 "nbformat_minor": 2
}
