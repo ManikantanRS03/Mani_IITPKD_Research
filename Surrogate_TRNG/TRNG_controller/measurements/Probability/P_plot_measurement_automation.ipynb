{
 "cells": [
  {
   "cell_type": "code",
   "execution_count": 18,
   "metadata": {},
   "outputs": [],
   "source": [
    "#%% Modules\n",
    "import pyvisa as visa\n",
    "import awg_support as awg\n",
    "import numpy as np \n",
    "import matplotlib.pyplot as plt\n",
    "import csv\n",
    "import time\n",
    "import serial"
   ]
  },
  {
   "cell_type": "code",
   "execution_count": 23,
   "metadata": {},
   "outputs": [],
   "source": [
    "#%% Initialisation\n",
    "# Setup for the tools\n",
    "ID_awg = 'USB0::0xF4EC::0x1102::SDG2XFBC7R0483::INSTR'\n",
    "rm = awg.resourcer()\n",
    "inst_awg = awg.initialise(ID_awg, rm)\n",
    "\n",
    "ser = serial.Serial('COM3', 115200, timeout=1)"
   ]
  },
  {
   "cell_type": "code",
   "execution_count": 24,
   "metadata": {},
   "outputs": [],
   "source": [
    "sd = 1.2 \n",
    "Ts = 1/8e6\n",
    "tw = np.arange(0, 1, Ts)"
   ]
  },
  {
   "cell_type": "code",
   "execution_count": 25,
   "metadata": {},
   "outputs": [],
   "source": [
    "def run(sd):\n",
    "    p = []\n",
    "    ts = []\n",
    "    while True:\n",
    "        if ser.in_waiting > 0:\n",
    "                try:\n",
    "                    line = ser.readline()\n",
    "                    val = line.decode('utf-8').strip()  # Attempt to decode as UTF-8\n",
    "                    #print(val)\n",
    "                    if(val == \"p\"):\n",
    "                        line = ser.readline()\n",
    "                        val = line.decode('utf-8').strip()  # Attempt to decode as UTF-8\n",
    "                        # print(val, float(val))\n",
    "                        p.append(float(val))\n",
    "                        print(\"p = \", p[-1])\n",
    "                    elif(val == \"ts\"):\n",
    "                        line = ser.readline()\n",
    "                        val = line.decode('utf-8').strip()  # Attempt to decode as UTF-8\n",
    "                        ts.append(int(val))\n",
    "                        print(\"ts = \", ts[-1])\n",
    "                    elif(val == \"end\"):\n",
    "                        print(\"end\")\n",
    "                        break\n",
    "                except ValueError:\n",
    "                    continue\n",
    "                except UnicodeDecodeError:\n",
    "                    print(\"error\")\n",
    "    return p, ts"
   ]
  },
  {
   "cell_type": "code",
   "execution_count": 26,
   "metadata": {},
   "outputs": [
    {
     "name": "stdout",
     "output_type": "stream",
     "text": [
      "p =  0.02\n",
      "p =  0.01\n",
      "p =  0.03\n",
      "p =  0.06\n",
      "p =  0.08\n",
      "p =  0.12\n",
      "p =  0.15\n",
      "p =  0.22\n",
      "p =  0.33\n",
      "p =  0.37\n",
      "p =  0.46\n",
      "p =  0.51\n",
      "p =  0.56\n",
      "p =  0.67\n",
      "p =  0.73\n",
      "p =  0.76\n",
      "p =  0.83\n",
      "p =  0.88\n",
      "p =  0.97\n",
      "p =  0.98\n",
      "end\n"
     ]
    }
   ],
   "source": [
    "awg.set_output_state(inst_awg,channel=2,val=\"ON\")\n",
    "wave = np.random.normal(0,sd,size=np.shape(tw))\n",
    "awg.arb_wave_constructor(inst_awg, wave, tw,freq=80e3,channel=2)\n",
    "\n",
    "P, Ts = run(sd)\n",
    "\n",
    "ser.close()\n",
    "awg.set_output_state(inst_awg,channel=2,val=\"OFF\")\n",
    "awg.set_output_state(inst_awg,channel=1,val=\"OFF\")\n",
    "awg.deinitialise(inst_awg)\n",
    "awg.deinitialise(rm)\n"
   ]
  },
  {
   "cell_type": "code",
   "execution_count": 27,
   "metadata": {},
   "outputs": [
    {
     "name": "stdout",
     "output_type": "stream",
     "text": [
      "[0.02, 0.01, 0.03, 0.06, 0.08, 0.12, 0.15, 0.22, 0.33, 0.37, 0.46, 0.51, 0.56, 0.67, 0.73, 0.76, 0.83, 0.88, 0.97, 0.98]\n"
     ]
    }
   ],
   "source": [
    "print(P)"
   ]
  }
 ],
 "metadata": {
  "kernelspec": {
   "display_name": "Python 3",
   "language": "python",
   "name": "python3"
  },
  "language_info": {
   "codemirror_mode": {
    "name": "ipython",
    "version": 3
   },
   "file_extension": ".py",
   "mimetype": "text/x-python",
   "name": "python",
   "nbconvert_exporter": "python",
   "pygments_lexer": "ipython3",
   "version": "3.12.3"
  }
 },
 "nbformat": 4,
 "nbformat_minor": 2
}
