{
 "cells": [
  {
   "cell_type": "code",
   "execution_count": 1,
   "metadata": {},
   "outputs": [],
   "source": [
    "#%% Modules\n",
    "import pyvisa as visa\n",
    "import awg_support as awg\n",
    "import numpy as np \n",
    "import matplotlib.pyplot as plt\n",
    "import csv\n",
    "import time\n",
    "import serial"
   ]
  },
  {
   "cell_type": "code",
   "execution_count": 2,
   "metadata": {},
   "outputs": [],
   "source": [
    "#%% Initialisation\n",
    "# Setup for the tools\n",
    "ID_awg = 'USB0::0xF4EC::0x1102::SDG2XFBC7R0482::INSTR'\n",
    "rm = awg.resourcer()\n",
    "inst_awg = awg.initialise(ID_awg, rm)"
   ]
  },
  {
   "cell_type": "code",
   "execution_count": 3,
   "metadata": {},
   "outputs": [],
   "source": [
    "#noise parameters\n",
    "sd = 1.1\n",
    "Ts = 1/8e6\n",
    "tw = np.arange(0, 1, Ts)"
   ]
  },
  {
   "cell_type": "code",
   "execution_count": 4,
   "metadata": {},
   "outputs": [],
   "source": [
    "awg.set_output_state(inst_awg,channel=2,val=\"ON\")\n",
    "wave = np.random.normal(0,sd,size=np.shape(tw))\n",
    "awg.arb_wave_constructor(inst_awg, wave, tw,freq=80e3,channel=2)"
   ]
  },
  {
   "cell_type": "code",
   "execution_count": 5,
   "metadata": {},
   "outputs": [],
   "source": [
    "def run(ser):\n",
    "    bit = []\n",
    "    count = 0\n",
    "    while True:\n",
    "        if ser.in_waiting > 0:\n",
    "                try:\n",
    "                    line = ser.readline()\n",
    "                    val = line.decode('utf-8').strip()  # Attempt to decode as UTF-8\n",
    "                    #print(val)\n",
    "                    if(val == \"0\" or val == \"1\"):\n",
    "                        bit.append(int(val))\n",
    "                        count += 1\n",
    "                        if(count == 1e4):\n",
    "                            return bit\n",
    "                except ValueError:\n",
    "                    continue\n",
    "                except UnicodeDecodeError:\n",
    "                    print(\"error\")\n",
    "    return bit"
   ]
  },
  {
   "cell_type": "code",
   "execution_count": 6,
   "metadata": {},
   "outputs": [
    {
     "name": "stdout",
     "output_type": "stream",
     "text": [
      "1e4 bits done: bit probability =  0.5277\n",
      "1e4 bits done: bit probability =  0.5273\n",
      "1e4 bits done: bit probability =  0.5282\n",
      "1e4 bits done: bit probability =  0.527\n",
      "1e4 bits done: bit probability =  0.5229\n",
      "1e4 bits done: bit probability =  0.522\n",
      "1e4 bits done: bit probability =  0.5334\n",
      "1e4 bits done: bit probability =  0.5242\n",
      "1e4 bits done: bit probability =  0.5246\n",
      "1e4 bits done: bit probability =  0.5168\n",
      "1e4 bits done: bit probability =  0.5146\n",
      "1e4 bits done: bit probability =  0.5193\n",
      "1e4 bits done: bit probability =  0.5151\n",
      "1e4 bits done: bit probability =  0.5248\n",
      "1e4 bits done: bit probability =  0.5177\n"
     ]
    }
   ],
   "source": [
    "ser = serial.Serial('COM3', 115200, timeout=1)\n",
    "#collecting 1.5lk points\n",
    "#collecting 10000 points per cycle\n",
    "#similarly we collect 100 such points\n",
    "TRN = []\n",
    "for i in range(15):\n",
    "    TRN_bits = run(ser)\n",
    "    TRN.append(TRN_bits)\n",
    "    print(\"1e4 bits done: bit probability = \", np.mean(TRN_bits))"
   ]
  },
  {
   "cell_type": "code",
   "execution_count": 7,
   "metadata": {},
   "outputs": [],
   "source": [
    "ser.close()\n",
    "awg.set_output_state(inst_awg,channel=2,val=\"OFF\")\n",
    "awg.set_output_state(inst_awg,channel=1,val=\"OFF\")\n",
    "awg.deinitialise(inst_awg)\n",
    "awg.deinitialise(rm)"
   ]
  },
  {
   "cell_type": "code",
   "execution_count": 38,
   "metadata": {},
   "outputs": [],
   "source": [
    "# bitstream = ''.join(f\"{int(h, 16):016b}\" for h in TRNG)  # Each hex is converted to 16-bit binary\n",
    "# bit_array = [int(bit) for bit in bitstream]\n",
    "# plt.figure(figsize=(20,5))\n",
    "# plt.plot(bit_array)\n",
    "# print(\"p = \", np.mean(bit_array))\n",
    "# print(\"total no: TRNG = \", len(bit_array))"
   ]
  },
  {
   "cell_type": "code",
   "execution_count": null,
   "metadata": {},
   "outputs": [],
   "source": [
    "# np.savez(\"TRNG_openloop_p_0.5_sd_1.1_vbias_0_137.npz\", TRN)"
   ]
  },
  {
   "cell_type": "code",
   "execution_count": 40,
   "metadata": {},
   "outputs": [],
   "source": [
    "# def hex_file_to_bitstream(file_path):\n",
    "#     with open(file_path, \"r\") as file:\n",
    "#         hex_values = [line.strip() for line in file if line.strip()]  # Read and clean lines\n",
    "\n",
    "#     # Convert each hex value to a 16-bit binary representation\n",
    "#     bitstream = ''.join(f\"{int(h, 16):016b}\" for h in hex_values)\n",
    "\n",
    "#     # Convert binary string into a list of bits (0s and 1s)\n",
    "#     bit_array = [int(bit) for bit in bitstream]\n",
    "\n",
    "#     return bit_array\n",
    "\n",
    "# # Example usage\n",
    "# file_path = \"openloop_bits_2_4_25.txt\"  # Replace with your actual file path\n",
    "# bit_array = hex_file_to_bitstream(file_path)\n",
    "# plt.figure(figsize=(20,5))\n",
    "# plt.plot(bit_array[0:1000])\n",
    "# print(\"p = \", np.mean(bit_array))\n",
    "# print(\"total no: TRNG = \", len(bit_array))\n",
    "\n",
    "# output_file = \"bitstream_openloop_2_4_25.txt\"\n",
    "# with open(output_file, \"w\") as file:\n",
    "#         file.write(''.join(map(str, bit_array)) + \"\\n\")  # Save as continuous bitstream\n"
   ]
  },
  {
   "cell_type": "code",
   "execution_count": 2,
   "metadata": {},
   "outputs": [],
   "source": [
    "TRN = np.load(\"TRNG_openloop_p_0.5_sd_1.1_vbias_0_137.npz\")\n",
    "TRN = TRN['arr_0']"
   ]
  },
  {
   "cell_type": "code",
   "execution_count": 3,
   "metadata": {},
   "outputs": [],
   "source": [
    "TRN_flat = np.array(TRN).flatten()"
   ]
  },
  {
   "cell_type": "code",
   "execution_count": 4,
   "metadata": {},
   "outputs": [],
   "source": [
    "bit_string = ''.join(TRN_flat.astype(str))\n",
    "# Save to a text file\n",
    "with open('TRNG_openloop_p_0.5_sd_1.1_vbias_0_137.txt', 'w') as f:\n",
    "    f.write(bit_string)"
   ]
  }
 ],
 "metadata": {
  "kernelspec": {
   "display_name": "Python 3",
   "language": "python",
   "name": "python3"
  },
  "language_info": {
   "codemirror_mode": {
    "name": "ipython",
    "version": 3
   },
   "file_extension": ".py",
   "mimetype": "text/x-python",
   "name": "python",
   "nbconvert_exporter": "python",
   "pygments_lexer": "ipython3",
   "version": "3.12.3"
  }
 },
 "nbformat": 4,
 "nbformat_minor": 2
}
