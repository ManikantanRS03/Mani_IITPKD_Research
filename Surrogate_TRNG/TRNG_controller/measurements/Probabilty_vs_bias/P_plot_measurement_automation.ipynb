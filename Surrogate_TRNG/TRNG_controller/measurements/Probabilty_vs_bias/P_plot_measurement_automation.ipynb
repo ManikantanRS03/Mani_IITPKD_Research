{
 "cells": [
  {
   "cell_type": "code",
   "execution_count": 16,
   "metadata": {},
   "outputs": [],
   "source": [
    "#%% Modules\n",
    "import pyvisa as visa\n",
    "import awg_support as awg\n",
    "import numpy as np \n",
    "import matplotlib.pyplot as plt\n",
    "import csv\n",
    "import time\n",
    "import serial"
   ]
  },
  {
   "cell_type": "code",
   "execution_count": 41,
   "metadata": {},
   "outputs": [],
   "source": [
    "#%% Initialisation\n",
    "# Setup for the tools\n",
    "ID_awg = 'USB0::0xF4EC::0x1102::SDG2XFBC7R0482::INSTR'\n",
    "rm = awg.resourcer()\n",
    "inst_awg = awg.initialise(ID_awg, rm)\n",
    "\n",
    "ser = serial.Serial('COM3', 115200, timeout=1)"
   ]
  },
  {
   "cell_type": "code",
   "execution_count": 42,
   "metadata": {},
   "outputs": [],
   "source": [
    "sd = 1\n",
    "Ts = 1/8e6\n",
    "tw = np.arange(0, 1, Ts)"
   ]
  },
  {
   "cell_type": "code",
   "execution_count": 43,
   "metadata": {},
   "outputs": [],
   "source": [
    "def run(sd):\n",
    "    p = []\n",
    "    bias = []\n",
    "    while True:\n",
    "        if ser.in_waiting > 0:\n",
    "                try:\n",
    "                    line = ser.readline()\n",
    "                    val = line.decode('utf-8').strip()  # Attempt to decode as UTF-8\n",
    "                    #print(val)\n",
    "                    if(val == \"p\"):\n",
    "                        line = ser.readline()\n",
    "                        val = line.decode('utf-8').strip()  # Attempt to decode as UTF-8\n",
    "                        # print(val, float(val))\n",
    "                        p.append(float(val))\n",
    "                        print(\"p = \", p[-1])\n",
    "                    elif(val == \"bias\"):\n",
    "                        line = ser.readline()\n",
    "                        val = line.decode('utf-8').strip()  # Attempt to decode as UTF-8\n",
    "                        bias.append(int(val))\n",
    "                        print(\"ts = \", bias[-1])\n",
    "                    elif(val == \"end\"):\n",
    "                        print(\"end\")\n",
    "                        break\n",
    "                except ValueError:\n",
    "                    continue\n",
    "                except UnicodeDecodeError:\n",
    "                    print(\"error\")\n",
    "    return p, bias"
   ]
  },
  {
   "cell_type": "code",
   "execution_count": 44,
   "metadata": {},
   "outputs": [
    {
     "name": "stdout",
     "output_type": "stream",
     "text": [
      "p =  0.02\n",
      "p =  0.03\n",
      "p =  0.03\n",
      "p =  0.05\n",
      "p =  0.06\n",
      "p =  0.1\n",
      "p =  0.17\n",
      "p =  0.25\n",
      "p =  0.37\n",
      "p =  0.46\n",
      "p =  0.61\n",
      "p =  0.73\n",
      "p =  0.81\n",
      "p =  0.93\n",
      "p =  0.95\n",
      "p =  0.94\n",
      "end\n"
     ]
    }
   ],
   "source": [
    "awg.set_output_state(inst_awg,channel=2,val=\"ON\")\n",
    "wave = np.random.normal(0,sd,size=np.shape(tw))\n",
    "awg.arb_wave_constructor(inst_awg, wave, tw,freq=80e3,channel=2)\n",
    "\n",
    "P, Bias = run(sd)\n",
    "\n",
    "ser.close()\n",
    "awg.set_output_state(inst_awg,channel=2,val=\"OFF\")\n",
    "awg.set_output_state(inst_awg,channel=1,val=\"OFF\")\n",
    "awg.deinitialise(inst_awg)\n",
    "awg.deinitialise(rm)"
   ]
  },
  {
   "cell_type": "code",
   "execution_count": 46,
   "metadata": {},
   "outputs": [
    {
     "data": {
      "text/plain": [
       "[<matplotlib.lines.Line2D at 0x171832bd670>]"
      ]
     },
     "execution_count": 46,
     "metadata": {},
     "output_type": "execute_result"
    },
    {
     "data": {
      "image/png": "[encoded data removed]",
      "text/plain": [
       "<Figure size 640x480 with 1 Axes>"
      ]
     },
     "metadata": {},
     "output_type": "display_data"
    }
   ],
   "source": [
    "Bias = [0, 0.01, 0.03, 0.05, 0.07, 0.09, 0.11, 0.13, 0.15, 0.17, 0.19, 0.21, 0.23, 0.25, 0.27, 0.3]\n",
    "plt.plot(Bias,P)"
   ]
  },
  {
   "cell_type": "code",
   "execution_count": 47,
   "metadata": {},
   "outputs": [
    {
     "name": "stdout",
     "output_type": "stream",
     "text": [
      "sd = 1 = [0.02, 0.03, 0.03, 0.05, 0.06, 0.1, 0.17, 0.25, 0.37, 0.46, 0.61, 0.73, 0.81, 0.93, 0.95, 0.94]\n"
     ]
    }
   ],
   "source": [
    "print(\"sd = 1 =\", P)"
   ]
  },
  {
   "cell_type": "code",
   "execution_count": 33,
   "metadata": {},
   "outputs": [
    {
     "name": "stdout",
     "output_type": "stream",
     "text": [
      "sd = 1.5 = [0.17, 0.33, 0.59, 0.64, 0.76, 0.82, 0.87, 0.91, 0.92, 0.94, 0.94, 0.92, 0.91, 0.94, 0.92, 0.95]\n"
     ]
    }
   ],
   "source": [
    "print(\"sd = 1.5 =\", P)"
   ]
  }
 ],
 "metadata": {
  "kernelspec": {
   "display_name": "Python 3",
   "language": "python",
   "name": "python3"
  },
  "language_info": {
   "codemirror_mode": {
    "name": "ipython",
    "version": 3
   },
   "file_extension": ".py",
   "mimetype": "text/x-python",
   "name": "python",
   "nbconvert_exporter": "python",
   "pygments_lexer": "ipython3",
   "version": "3.12.3"
  }
 },
 "nbformat": 4,
 "nbformat_minor": 2
}
