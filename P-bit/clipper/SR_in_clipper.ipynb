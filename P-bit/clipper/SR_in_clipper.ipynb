{
 "cells": [
  {
   "cell_type": "code",
   "execution_count": 2,
   "id": "bcdb3584",
   "metadata": {},
   "outputs": [],
   "source": [
    "import numpy as np\n",
    "import matplotlib.pyplot as plt\n",
    "import scipy as sc"
   ]
  },
  {
   "cell_type": "code",
   "execution_count": 3,
   "id": "7306529d",
   "metadata": {},
   "outputs": [],
   "source": [
    "def threshold_sys(sig, th):\n",
    "    out = np.zeros(len(sig))\n",
    "    for i in range(len(sig)):\n",
    "        if(sig[i] > th):\n",
    "             out[i] = sig[i] - th\n",
    "    return out"
   ]
  },
  {
   "cell_type": "code",
   "execution_count": 7,
   "id": "bbb10a0f",
   "metadata": {},
   "outputs": [],
   "source": [
    "# to find power, snr\n",
    "def power_snr_noisefloor(freq, psd, f_sig, fs, delw, delw_noise):    \n",
    "    #index to find power\n",
    "    ffro = int(2*len(freq)/fs*(f_sig - delw)) + 1\n",
    "    fto = int(2*len(freq)/fs*(f_sig + delw)) + 1\n",
    "    #index to find noise\n",
    "    nfro1 = int(2*len(freq)/fs*(f_sig - delw_noise))+1\n",
    "    nto1 = int(2*len(freq)/fs*(f_sig + delw_noise))+1\n",
    "    P_sig = np.trapz(psd[ffro:fto], freq[ffro:fto])\n",
    "    P_noise = np.trapz(psd[nfro1:nto1], freq[nfro1:nto1]) - P_sig\n",
    "    Snr = P_sig/P_noise\n",
    "    return P_sig, P_noise, Snr\n",
    "\n",
    "def SR_matrics(sd, ens, OUT, Vswitch, fs, f, delw=5, delw_noise = 70):\n",
    "    Cov_ens = 0\n",
    "    psd_ens = 0\n",
    "    psd_noise_ens = 0\n",
    "    for e in range(ens):\n",
    "        Cov_ens += np.cov(OUT[e],Vswitch)[1,0]    \n",
    "        freq, psd = sc.signal.periodogram(OUT[e], fs)\n",
    "        psd_ens += psd\n",
    "\n",
    "        P_ens, NF_ens, SNR_ens = power_snr_noisefloor(freq, psd_ens/ens , f, fs, delw, delw_noise)\n",
    "        \n",
    "    PSD = psd_ens/ens\n",
    "    PSR = P_ens\n",
    "    NF = NF_ens\n",
    "    SNR = SNR_ens\n",
    "    COV = Cov_ens/ens\n",
    "\n",
    "    return PSR, NF, SNR, COV"
   ]
  },
  {
   "cell_type": "code",
   "execution_count": 17,
   "id": "8cb8eb44",
   "metadata": {},
   "outputs": [],
   "source": [
    "fs = 1e5 # sampling frequency\n",
    "tp = 5 #time duration\n",
    "t = np.linspace(0, tp, int(tp*fs)) #time series\n",
    "f_sig = 100 # signal frequency\n",
    "A_sig = 0.2 # signal amplitude\n",
    "V_th = 2 #threshold\n",
    "ens = 100\n",
    "\n",
    "sd = np.arange(0.6, 4, 0.1)"
   ]
  },
  {
   "cell_type": "code",
   "execution_count": 18,
   "id": "0c1929e6",
   "metadata": {},
   "outputs": [
    {
     "name": "stdout",
     "output_type": "stream",
     "text": [
      "sd = 0.6 done\n",
      "sd = 0.7 done\n",
      "sd = 0.7999999999999999 done\n",
      "sd = 0.8999999999999999 done\n",
      "sd = 0.9999999999999999 done\n",
      "sd = 1.0999999999999999 done\n",
      "sd = 1.1999999999999997 done\n",
      "sd = 1.2999999999999998 done\n",
      "sd = 1.4 done\n",
      "sd = 1.4999999999999998 done\n",
      "sd = 1.5999999999999996 done\n",
      "sd = 1.6999999999999997 done\n",
      "sd = 1.7999999999999998 done\n",
      "sd = 1.9 done\n",
      "sd = 1.9999999999999996 done\n",
      "sd = 2.0999999999999996 done\n",
      "sd = 2.1999999999999997 done\n",
      "sd = 2.3 done\n",
      "sd = 2.3999999999999995 done\n",
      "sd = 2.4999999999999996 done\n",
      "sd = 2.5999999999999996 done\n",
      "sd = 2.6999999999999997 done\n",
      "sd = 2.7999999999999994 done\n",
      "sd = 2.8999999999999995 done\n",
      "sd = 2.9999999999999996 done\n",
      "sd = 3.0999999999999996 done\n",
      "sd = 3.1999999999999997 done\n",
      "sd = 3.2999999999999994 done\n",
      "sd = 3.3999999999999995 done\n",
      "sd = 3.4999999999999996 done\n",
      "sd = 3.599999999999999 done\n",
      "sd = 3.6999999999999993 done\n",
      "sd = 3.7999999999999994 done\n",
      "sd = 3.8999999999999995 done\n"
     ]
    }
   ],
   "source": [
    "# signal\n",
    "sig = A_sig*np.sin(2*np.pi*f_sig*t)\n",
    "\n",
    "# signal for c.c\n",
    "sig_switch = 1.5*V_th*np.sin(2*np.pi*f_sig*t)\n",
    "out_switch = threshold_sys(sig_switch, V_th)\n",
    "\n",
    "#SR matric\n",
    "Power = []\n",
    "Snr = []\n",
    "Cov = []\n",
    "\n",
    "for i in range(len(sd)):\n",
    "    OUT_ens = []\n",
    "    # IN_ens = []\n",
    "    for e in range(ens):\n",
    "        #noise\n",
    "        noise = np.random.normal(0, sd[i], len(t))\n",
    "        sig_in = sig+noise\n",
    "        # IN_ens.append(sig_in)\n",
    "\n",
    "        #output\n",
    "        sig_out = threshold_sys(sig_in, V_th)\n",
    "        OUT_ens.append(sig_out)\n",
    "    PSR, NF, SNR, COV = SR_matrics(sd[i], ens, OUT_ens, out_switch, fs, f_sig, delw=5, delw_noise = 20)\n",
    "    Power.append(PSR)\n",
    "    Snr.append(SNR)\n",
    "    Cov.append(COV)\n",
    "    \n",
    "    print(f\"sd = {sd[i]} done\")\n"
   ]
  },
  {
   "cell_type": "code",
   "execution_count": 19,
   "id": "2db9605c",
   "metadata": {},
   "outputs": [
    {
     "data": {
      "text/plain": [
       "Text(0, 0.5, 'SNR')"
      ]
     },
     "execution_count": 19,
     "metadata": {},
     "output_type": "execute_result"
    },
    {
     "data": {
      "image/png": "[encoded data removed]",
      "text/plain": [
       "<Figure size 640x480 with 1 Axes>"
      ]
     },
     "metadata": {},
     "output_type": "display_data"
    }
   ],
   "source": [
    "plt.plot(sd, Snr ,\"--s\", c = \"red\")\n",
    "plt.xlabel(\"sd\")\n",
    "plt.ylabel(\"SNR\")"
   ]
  },
  {
   "cell_type": "code",
   "execution_count": 21,
   "id": "faf382a5",
   "metadata": {},
   "outputs": [],
   "source": [
    "# saving data\n",
    "np.savez(\"SR_clipper_data2.npz\", sd, ens, A_sig, f_sig, fs, tp, t, V_th, Power, Snr, Cov)"
   ]
  }
 ],
 "metadata": {
  "kernelspec": {
   "display_name": "Python 3",
   "language": "python",
   "name": "python3"
  },
  "language_info": {
   "codemirror_mode": {
    "name": "ipython",
    "version": 3
   },
   "file_extension": ".py",
   "mimetype": "text/x-python",
   "name": "python",
   "nbconvert_exporter": "python",
   "pygments_lexer": "ipython3",
   "version": "3.12.3"
  }
 },
 "nbformat": 4,
 "nbformat_minor": 5
}
