{
 "cells": [
  {
   "cell_type": "code",
   "execution_count": 2,
   "id": "000d5817",
   "metadata": {},
   "outputs": [],
   "source": [
    "import numpy as np\n",
    "import matplotlib.pyplot as plt\n",
    "import scipy as sc"
   ]
  },
  {
   "cell_type": "code",
   "execution_count": 3,
   "id": "9c1b28b2",
   "metadata": {},
   "outputs": [],
   "source": [
    "def threshold_sys(sig, th):\n",
    "    out = np.zeros(len(sig))\n",
    "    for i in range(len(sig)):\n",
    "        if(sig[i] > th):\n",
    "             out[i] = sig[i] - th\n",
    "    return out"
   ]
  },
  {
   "cell_type": "code",
   "execution_count": 18,
   "id": "032d25d7",
   "metadata": {},
   "outputs": [],
   "source": [
    "def find_ki(sd, ens, fs, OUT, f_val):\n",
    "    \n",
    "    ki_r = []\n",
    "    ki_i = []\n",
    "    frq = []\n",
    "    for i in range(len(sd)):\n",
    "        ki_r_ens = 0\n",
    "        ki_i_ens = 0\n",
    "        for e in range(ens):\n",
    "            freq, psd = sc.signal.periodogram(OUT[i][e], fs)\n",
    "            # for finding img part of ki\n",
    "            ki_img = []\n",
    "            for j,f in enumerate(freq):\n",
    "                ki_img.append(2*np.pi*f*psd[j]/sd[i]**2)\n",
    "            \n",
    "            # for finding real part of ki\n",
    "            intgr = np.zeros_like(freq)\n",
    "            for k in range(len(freq)):\n",
    "                if abs(freq[k] - f_val) < 1: #idk about the accuracy\n",
    "                    intgr[k] = 0 # Skip to avoid singularity\n",
    "                    idx = k # finding the indx\n",
    "                else:\n",
    "                    intgr[k] = freq[k] * ki_img[k] / (freq[k]**2 - f_val**2)\n",
    "            ki_real = 2/np.pi * np.trapz(intgr, 2*np.pi*freq)\n",
    "            ki_r_ens += ki_img[idx]\n",
    "            ki_i_ens += ki_real\n",
    "        frq.append(freq[idx])\n",
    "        ki_r.append(ki_r_ens/ens)\n",
    "        ki_i.append(ki_i_ens/ens)\n",
    "        print(f\"{sd[i]} done\")\n",
    "\n",
    "    return frq, ki_i, ki_r"
   ]
  },
  {
   "cell_type": "code",
   "execution_count": 4,
   "id": "ae786d67",
   "metadata": {},
   "outputs": [],
   "source": [
    "fs = 1e5 # sampling frequency\n",
    "tp = 5 #time duration\n",
    "t = np.linspace(0, tp, int(tp*fs)) #time series\n",
    "V_th = 2 #threshold\n",
    "ens = 100\n",
    "\n",
    "sd = np.arange(0.6, 4, 0.1)"
   ]
  },
  {
   "cell_type": "code",
   "execution_count": 5,
   "id": "a1930380",
   "metadata": {},
   "outputs": [
    {
     "name": "stdout",
     "output_type": "stream",
     "text": [
      "sd = 0.6 done\n",
      "sd = 0.7 done\n",
      "sd = 0.7999999999999999 done\n",
      "sd = 0.8999999999999999 done\n",
      "sd = 0.9999999999999999 done\n",
      "sd = 1.0999999999999999 done\n",
      "sd = 1.1999999999999997 done\n",
      "sd = 1.2999999999999998 done\n",
      "sd = 1.4 done\n",
      "sd = 1.4999999999999998 done\n",
      "sd = 1.5999999999999996 done\n",
      "sd = 1.6999999999999997 done\n",
      "sd = 1.7999999999999998 done\n",
      "sd = 1.9 done\n",
      "sd = 1.9999999999999996 done\n",
      "sd = 2.0999999999999996 done\n",
      "sd = 2.1999999999999997 done\n",
      "sd = 2.3 done\n",
      "sd = 2.3999999999999995 done\n",
      "sd = 2.4999999999999996 done\n",
      "sd = 2.5999999999999996 done\n",
      "sd = 2.6999999999999997 done\n",
      "sd = 2.7999999999999994 done\n",
      "sd = 2.8999999999999995 done\n",
      "sd = 2.9999999999999996 done\n",
      "sd = 3.0999999999999996 done\n",
      "sd = 3.1999999999999997 done\n",
      "sd = 3.2999999999999994 done\n",
      "sd = 3.3999999999999995 done\n",
      "sd = 3.4999999999999996 done\n",
      "sd = 3.599999999999999 done\n",
      "sd = 3.6999999999999993 done\n",
      "sd = 3.7999999999999994 done\n",
      "sd = 3.8999999999999995 done\n"
     ]
    }
   ],
   "source": [
    "OUT = []\n",
    "# IN = []\n",
    "\n",
    "for i in range(len(sd)):\n",
    "    OUT_ens = []\n",
    "    # IN_ens = []\n",
    "    for e in range(ens):\n",
    "        #noise\n",
    "        noise = np.random.normal(0, sd[i], len(t))\n",
    "        # IN_ens.append(sig_in)\n",
    "        #output\n",
    "        sig_out = threshold_sys(noise, V_th)\n",
    "        OUT_ens.append(sig_out)\n",
    "    # IN.append(IN_ens)\n",
    "    OUT.append(OUT_ens)\n",
    "    print(f\"sd = {sd[i]} done\")"
   ]
  },
  {
   "cell_type": "code",
   "execution_count": 19,
   "id": "46c5c0eb",
   "metadata": {},
   "outputs": [
    {
     "name": "stdout",
     "output_type": "stream",
     "text": [
      "0.6 done\n",
      "0.7 done\n",
      "0.7999999999999999 done\n",
      "0.8999999999999999 done\n",
      "0.9999999999999999 done\n",
      "1.0999999999999999 done\n",
      "1.1999999999999997 done\n",
      "1.2999999999999998 done\n",
      "1.4 done\n",
      "1.4999999999999998 done\n",
      "1.5999999999999996 done\n",
      "1.6999999999999997 done\n",
      "1.7999999999999998 done\n",
      "1.9 done\n",
      "1.9999999999999996 done\n",
      "2.0999999999999996 done\n",
      "2.1999999999999997 done\n",
      "2.3 done\n",
      "2.3999999999999995 done\n",
      "2.4999999999999996 done\n",
      "2.5999999999999996 done\n",
      "2.6999999999999997 done\n",
      "2.7999999999999994 done\n",
      "2.8999999999999995 done\n",
      "2.9999999999999996 done\n",
      "3.0999999999999996 done\n",
      "3.1999999999999997 done\n",
      "3.2999999999999994 done\n",
      "3.3999999999999995 done\n",
      "3.4999999999999996 done\n",
      "3.599999999999999 done\n",
      "3.6999999999999993 done\n",
      "3.7999999999999994 done\n",
      "3.8999999999999995 done\n"
     ]
    }
   ],
   "source": [
    "frq, ki_i, ki_r = find_ki(sd, ens, fs, OUT, 100)"
   ]
  },
  {
   "cell_type": "code",
   "execution_count": 24,
   "id": "473ff48e",
   "metadata": {},
   "outputs": [],
   "source": [
    "# Load the .npz file\n",
    "data = np.load(\"SR_clipper_data2.npz\")\n",
    "\n",
    "# Access the arrays by key\n",
    "sd_01 = data['arr_0']\n",
    "PSR_01 = data['arr_8']\n",
    "SNR_01 = data['arr_9']\n",
    "COV_01 = data['arr_10']\n"
   ]
  },
  {
   "cell_type": "code",
   "execution_count": 29,
   "id": "86dd6e4a",
   "metadata": {},
   "outputs": [],
   "source": [
    "mod_ki = np.sqrt(np.array(ki_i)**2 + np.array(ki_r)**2)\n",
    "nf = PSR_01/SNR_01\n",
    "Snr_anl = mod_ki/nf"
   ]
  },
  {
   "cell_type": "code",
   "execution_count": 41,
   "id": "208f79a7",
   "metadata": {},
   "outputs": [
    {
     "data": {
      "text/plain": [
       "[<matplotlib.lines.Line2D at 0x27bdeedf560>]"
      ]
     },
     "execution_count": 41,
     "metadata": {},
     "output_type": "execute_result"
    },
    {
     "data": {
      "image/png": "[encoded data removed]",
      "text/plain": [
       "<Figure size 640x480 with 1 Axes>"
      ]
     },
     "metadata": {},
     "output_type": "display_data"
    }
   ],
   "source": [
    "plt.plot(sd_01, PSR_01)\n",
    "plt.plot(sd_01, mod_ki/2000)"
   ]
  }
 ],
 "metadata": {
  "kernelspec": {
   "display_name": "Python 3",
   "language": "python",
   "name": "python3"
  },
  "language_info": {
   "codemirror_mode": {
    "name": "ipython",
    "version": 3
   },
   "file_extension": ".py",
   "mimetype": "text/x-python",
   "name": "python",
   "nbconvert_exporter": "python",
   "pygments_lexer": "ipython3",
   "version": "3.12.3"
  }
 },
 "nbformat": 4,
 "nbformat_minor": 5
}
